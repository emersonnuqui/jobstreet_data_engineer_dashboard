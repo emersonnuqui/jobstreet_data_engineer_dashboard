{
 "cells": [
  {
   "cell_type": "code",
   "execution_count": 1,
   "id": "7a27f039",
   "metadata": {},
   "outputs": [],
   "source": [
    "import pandas as pd\n",
    "import os\n",
    "import mysql.connector\n"
   ]
  },
  {
   "cell_type": "code",
   "execution_count": 3,
   "id": "49bdbf20",
   "metadata": {},
   "outputs": [],
   "source": [
    "# Read environment variables\n",
    "host = os.environ.get(\"RDS_HOST\")\n",
    "user = os.environ.get(\"RDS_USER\")\n",
    "password = os.environ.get(\"RDS_PASS\")"
   ]
  },
  {
   "cell_type": "code",
   "execution_count": null,
   "id": "c0ac6cf5",
   "metadata": {},
   "outputs": [],
   "source": [
    "def set_mysql_connection(host, user, password):\n",
    "    conn = mysql.connector.connect(\n",
    "        host = host,\n",
    "        user = user,\n",
    "        password = password,\n",
    "    )\n",
    "    \n",
    "    mycursor = conn.cursor()\n",
    "    \n",
    "    return conn, mycursor\n",
    "\n",
    "def create_database(mycursor, conn, new_database_name):\n",
    "    # Execute a query to create the new database\n",
    "    create_database_query = f\"CREATE DATABASE {new_database_name}\"\n",
    "    mycursor.execute(create_database_query)\n",
    "\n",
    "    # Commit the changes\n",
    "    conn.commit()\n",
    "\n",
    "    print(f\"Done creating {new_database_name} database\")"
   ]
  },
  {
   "cell_type": "code",
   "execution_count": 17,
   "id": "70f2db71",
   "metadata": {},
   "outputs": [],
   "source": [
    "# Set up AWS MySQL Connection\n",
    "conn, mycursor = set_mysql_connection(host, user, password)\n"
   ]
  },
  {
   "cell_type": "code",
   "execution_count": 18,
   "id": "c1e5a26b",
   "metadata": {},
   "outputs": [
    {
     "name": "stdout",
     "output_type": "stream",
     "text": [
      "Done creating jobstreet_db database\n"
     ]
    }
   ],
   "source": [
    "# Create jobstreet database\n",
    "create_database(mycursor, conn, \"jobstreet_db\")"
   ]
  },
  {
   "cell_type": "code",
   "execution_count": 21,
   "id": "d879efe6",
   "metadata": {},
   "outputs": [],
   "source": [
    "# Create table under jobstreet_db\n",
    "\n",
    "# Replace 'your_existing_database' with the name of the existing database\n",
    "existing_database_name = \"jobstreet_db\"\n",
    "mycursor.execute(f\"USE {existing_database_name}\")\n",
    "\n",
    "query = \"\"\"\n",
    "    CREATE TABLE IF NOT EXISTS jobstreet (\n",
    "    job_id BIGINT PRIMARY KEY,\n",
    "    job_title VARCHAR(50), \n",
    "    location VARCHAR(50), \n",
    "    company VARCHAR(50), \n",
    "    salary INT(10), \n",
    "    job_url VARCHAR(250), \n",
    "    qualification VARCHAR(50),\n",
    "    year_of_experience INT(3), \n",
    "    job_type VARCHAR(10), \n",
    "    company_size VARCHAR(10), \n",
    "    tech_language VARCHAR(250), \n",
    "    tech_database VARCHAR(250),\n",
    "    tech_cloud VARCHAR(250), \n",
    "    tech_web_framework VARCHAR(250), \n",
    "    tech_libraries VARCHAR(250), \n",
    "    tech_developer VARCHAR(250), \n",
    "    tech_data_viz VARCHAR(250),\n",
    "    tech_version_control VARCHAR(250)\n",
    "    )\n",
    "\"\"\"\n",
    "mycursor.execute(query)\n",
    "conn.commit()"
   ]
  }
 ],
 "metadata": {
  "kernelspec": {
   "display_name": "Python 3 (ipykernel)",
   "language": "python",
   "name": "python3"
  },
  "language_info": {
   "codemirror_mode": {
    "name": "ipython",
    "version": 3
   },
   "file_extension": ".py",
   "mimetype": "text/x-python",
   "name": "python",
   "nbconvert_exporter": "python",
   "pygments_lexer": "ipython3",
   "version": "3.9.1rc1"
  }
 },
 "nbformat": 4,
 "nbformat_minor": 5
}
